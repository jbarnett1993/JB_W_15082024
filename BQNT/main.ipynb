{
 "cells": [
  {
   "cell_type": "code",
   "execution_count": null,
   "id": "82d1d41d-aa0f-4061-8d6f-691ce4ee80d1",
   "metadata": {},
   "outputs": [],
   "source": [
    "from tia.bbg import LocalTerminal\n",
    "import tia.bbg.datamgr as dm\n",
    "import pandas as pd\n",
    "import matplotlib.pyplot as plt\n",
    "from matplotlib.backends.backend_pdf import PdfPages\n",
    "from matplotlib.colors import LinearSegmentedColormap\n",
    "import numpy as np\n",
    "import textwrap\n",
    "from pandas import ExcelWriter\n",
    "import openpyxl\n",
    "from openpyxl.utils import get_column_letter\n",
    "\n",
    "mgr = dm.BbgDataManager()"
   ]
  },
  {
   "cell_type": "code",
   "execution_count": null,
   "id": "a1a411ac-660b-44d9-9a0b-7269029cc4e4",
   "metadata": {},
   "outputs": [],
   "source": [
    "import bql\n",
    "bq = bql.Service()\n",
    "\n",
    "universe = bq.univ.members(type='AIM', accounts=[XXXXXX]\n",
    "\n",
    "data_item = bq.data.ts_position()\n",
    "\n",
    "request = bql.Request(universe, data_item)\n",
    "response = bq.execute(request)\n",
    "\n",
    "data = response[0].df()\n"
   ]
  },
  {
   "cell_type": "code",
   "execution_count": null,
   "id": "3e2a7fcb-c94d-4f7e-a06f-480e0ae08e79",
   "metadata": {},
   "outputs": [],
   "source": [
    "data.head()"
   ]
  },
  {
   "cell_type": "code",
   "execution_count": null,
   "id": "8daa0cfc-25f8-4cc8-8202-00299397d048",
   "metadata": {},
   "outputs": [],
   "source": [
    "data = data.groupby('ID').sum()"
   ]
  },
  {
   "cell_type": "code",
   "execution_count": null,
   "id": "e4f75b14-2da8-4d3a-a7a3-7f24f495dd5d",
   "metadata": {},
   "outputs": [],
   "source": [
    "ids = data.index.to_list()"
   ]
  },
  {
   "cell_type": "code",
   "execution_count": null,
   "id": "3329f7ef-4ae8-4d16-b8fd-a3a2d111bbd4",
   "metadata": {},
   "outputs": [],
   "source": [
    "universe = ids\n",
    "\n",
    "data_item1 = bq.data.MIFID_SUB_ASSET_CLASS()\n",
    "\n",
    "request1 = bql.Request(universe, data_item1)\n",
    "\n",
    "\n",
    "response1 = bq.execute(request1)\n",
    "\n",
    "data1 = response1[0].df()\n"
   ]
  },
  {
   "cell_type": "code",
   "execution_count": null,
   "id": "f57be310-d664-4c93-b2df-62916b3eaf73",
   "metadata": {},
   "outputs": [],
   "source": [
    "mask = data1['MIFID_SUB_ASSET_CLASS()'].str.contains('CRPB', case=False, na=False)"
   ]
  },
  {
   "cell_type": "code",
   "execution_count": null,
   "id": "ba45de9e-650e-4013-8835-0c59944d5d2d",
   "metadata": {},
   "outputs": [],
   "source": [
    "data1 = data1[mask]"
   ]
  },
  {
   "cell_type": "code",
   "execution_count": null,
   "id": "8ef4626e-aad3-4da2-b68b-debcd87288b7",
   "metadata": {},
   "outputs": [],
   "source": [
    "ids = data1.index.to_list()"
   ]
  },
  {
   "cell_type": "code",
   "execution_count": null,
   "id": "91e44b04-3327-40ab-8997-b753157408fc",
   "metadata": {},
   "outputs": [],
   "source": [
    "resp = LocalTerminal.get_reference_data(ids,[\"SECURITY_NAME\",\"MARKET_SECTOR_DES\",\"CAST_PARENT_NAME\",\"CRNCY\",\"IS_EMERGING_MARKET\"],ignore_field_error=1)\n",
    "tickers = resp.as_frame()"
   ]
  },
  {
   "cell_type": "code",
   "execution_count": null,
   "id": "66d61205-a538-43c2-a92e-5f87a4970ab0",
   "metadata": {},
   "outputs": [],
   "source": [
    "issuers = ['BAC']"
   ]
  },
  {
   "cell_type": "code",
   "execution_count": null,
   "id": "27bbe4ef-6a05-4887-b218-cd672308f0fd",
   "metadata": {},
   "outputs": [],
   "source": [
    "tickers['issuers']=tickers['SECURITY_NAME'].str.split().str[0]"
   ]
  },
  {
   "cell_type": "code",
   "execution_count": null,
   "id": "fbfbeb72-98bf-4b4f-9b5f-1ee183e664b2",
   "metadata": {},
   "outputs": [],
   "source": [
    "tickers = tickers[tickers['issuers'].isin(issuers)]"
   ]
  },
  {
   "cell_type": "code",
   "execution_count": null,
   "id": "e6a78dc7-83d1-46b8-a9da-b38f6eb703e4",
   "metadata": {},
   "outputs": [],
   "source": [
    "data1 = data1.merge(data, how='left', left_index=True, right_index=True)\n"
   ]
  },
  {
   "cell_type": "code",
   "execution_count": null,
   "id": "097ed68a-e0f1-49be-88b0-928cf47a8eb7",
   "metadata": {},
   "outputs": [],
   "source": [
    "tickers = tickers.merge(data1,how='left', left_index=True, right_index=True)\n",
    "\n"
   ]
  },
  {
   "cell_type": "code",
   "execution_count": null,
   "id": "6c38b5e1-c569-4da8-9ab9-26820e2be9c1",
   "metadata": {},
   "outputs": [],
   "source": [
    "tickers.dropna(subset=['CAST_PARENT_NAME'], inplace=True)\n"
   ]
  },
  {
   "cell_type": "code",
   "execution_count": null,
   "id": "6326136d-e6cc-4e84-a9dd-04ec62d241cb",
   "metadata": {},
   "outputs": [],
   "source": [
    "tickers['issuer + currency'] = tickers['CAST_PARENT_NAME'] + tickers['CRNCY']\n",
    "tickers.drop_duplicates(subset=['issuer + currency'], inplace = True)"
   ]
  },
  {
   "cell_type": "code",
   "execution_count": null,
   "id": "0b962821-0865-4ea1-96f3-7a2e102c5024",
   "metadata": {},
   "outputs": [],
   "source": [
    "tickers = tickers[tickers.IS_EMERGING_MARKET == 'N']\n",
    "tickers"
   ]
  },
  {
   "cell_type": "code",
   "execution_count": null,
   "id": "665b4182-bd44-4a5f-8939-e87c4c8bed49",
   "metadata": {},
   "outputs": [],
   "source": [
    "# sample_tickers = tickers[tickers.CRNCY == 'EUR']"
   ]
  },
  {
   "cell_type": "code",
   "execution_count": null,
   "id": "08bf0736-19cf-4b95-9cec-d9c4f2d3e4db",
   "metadata": {},
   "outputs": [],
   "source": [
    "# sample_tickers"
   ]
  },
  {
   "cell_type": "code",
   "execution_count": null,
   "id": "d1855cd2-0e67-42df-8a71-e13b74585314",
   "metadata": {},
   "outputs": [],
   "source": [
    "unique_tickers = tickers.index.to_list()\n",
    "unique_tickers"
   ]
  },
  {
   "cell_type": "code",
   "execution_count": null,
   "id": "0d6f0ec4-ccc5-4d6c-9bf4-c728a387d9d3",
   "metadata": {},
   "outputs": [],
   "source": [
    "bonds = []\n",
    "for ticker in unique_tickers:\n",
    "    universe = bq.univ.filter(bq.univ.bonds(ticker),bq.func.and_(bq.data.crncy() == tickers.loc[ticker]['CRNCY'] ,bq.data.AMT_OUTSTANDING() > 150000000))\n",
    "    \n",
    "    data_item = bq.data.name()\n",
    "    \n",
    "    request = bql.Request(universe, data_item)\n",
    "    response = bq.execute(request)\n",
    "\n",
    "    fetch = response[0].df()\n",
    "    bonds.append(fetch)"
   ]
  },
  {
   "cell_type": "code",
   "execution_count": null,
   "id": "77fae58a-9ecd-4e0f-8db1-848fa5348ed6",
   "metadata": {},
   "outputs": [],
   "source": [
    "final_dfs = []\n",
    "\n",
    "for df in bonds:\n",
    "    ids = df.index.tolist()\n",
    "    resp = LocalTerminal.get_reference_data(ids,[\"ID_ISIN\", \"SECURITY_NAME\", \"CPN\", \"MATURITY\", \"AMT_OUTSTANDING\", \"YAS_MOD_DUR\",\n",
    "                                                \"CNVX_MID\", \"YLD_CNV_MID\", \"YLD_CUR_MID\", \"YAS_ISPREAD_TO_GOVT\", \"YAS_OAS_SPRD\", \"LAST_PRICE\", \"CHG_PCT_YTD\",\"YLD_CHG_YTD_MID_NET\",\n",
    "                                                 \"RTG_SP\", \"RTG_MOODY\", \"RTG_FITCH\", \"NXT_CALL_DT\", \"NXT_CALL_PX\", \"CRNCY\",\"NORMALIZED_PAYMENT_RANK\"],ignore_field_error=1)\n",
    "    resp_df = resp.as_frame()\n",
    "    \n",
    "    df = df.join(resp_df)\n",
    "    df = df.sort_values(by='MATURITY', ascending=True)\n",
    "    \n",
    "    final_dfs.append(df)"
   ]
  },
  {
   "cell_type": "code",
   "execution_count": null,
   "id": "f08813e4-271f-48f8-bb8e-77e0d5b27d31",
   "metadata": {},
   "outputs": [],
   "source": [
    "final_dfs_merged = []\n",
    "for df in final_dfs:\n",
    "    df = df.merge(data, how='left',left_index = True, right_index = True)\n",
    "    move_col = df.pop('TS_POSITION()')\n",
    "    df.insert(4,'TS_POSITION()',move_col)\n",
    "    # df['ROOM_TO_10%'] = df[\"AMT_OUTSTANDING\"]\n",
    "    # move_col1 = df.pop('ROOM_TO_10%')\n",
    "    # df.insert(8,'ROOM_TO_10',move_col)\n",
    "\n",
    "    \n",
    "    \n",
    "    final_dfs_merged.append(df)"
   ]
  },
  {
   "cell_type": "code",
   "execution_count": null,
   "id": "caae42a2-e89e-4b6f-8fa8-135ed90126d1",
   "metadata": {},
   "outputs": [],
   "source": [
    "final_dfs_merged"
   ]
  },
  {
   "cell_type": "code",
   "execution_count": null,
   "id": "83ec21e8-61cc-4c88-96e3-5b33d0e657e5",
   "metadata": {},
   "outputs": [],
   "source": [
    "writer = pd.ExcelWriter('usd_exposure.xlsx', engine='openpyxl')\n",
    "for df in final_dfs_merged:\n",
    "    name = df['NAME()'][0].split(\" \")[0] + df['CRNCY']\n",
    "    df.to_excel(writer, sheet_name=name, index=False)\n",
    "\n",
    "    worksheet = writer.sheets[name]\n",
    "\n",
    "    for col in df.columns:\n",
    "        # Find the maximum length of the data in each column\n",
    "        max_length = max(df[col].astype(str).apply(len).max(), len(col))\n",
    "        # Adjust the column width; add a small buffer to ensure fit\n",
    "        column_letter = get_column_letter(df.columns.get_loc(col) + 1)\n",
    "        worksheet.column_dimensions[column_letter].width = max_length + 2\n",
    "\n",
    "writer.save()"
   ]
  },
  {
   "cell_type": "code",
   "execution_count": null,
   "id": "dbd02d39-3833-4360-81b7-f5bd99f1d066",
   "metadata": {},
   "outputs": [],
   "source": []
  },
  {
   "cell_type": "code",
   "execution_count": null,
   "id": "169d3f87-85ad-4c0f-aa06-3402cbca40b5",
   "metadata": {},
   "outputs": [],
   "source": []
  },
  {
   "cell_type": "code",
   "execution_count": null,
   "id": "5a356b07-9d8a-4766-b087-f30b2264f93d",
   "metadata": {},
   "outputs": [],
   "source": []
  }
 ],
 "metadata": {
  "kernelspec": {
   "display_name": "Python 3 (ipykernel)",
   "language": "python",
   "name": "python3"
  },
  "language_info": {
   "codemirror_mode": {
    "name": "ipython",
    "version": 3
   },
   "file_extension": ".py",
   "mimetype": "text/x-python",
   "name": "python",
   "nbconvert_exporter": "python",
   "pygments_lexer": "ipython3",
   "version": "3.11.5"
  }
 },
 "nbformat": 4,
 "nbformat_minor": 5
}
